{
 "cells": [
  {
   "metadata": {},
   "cell_type": "markdown",
   "source": [
    "# High-Level Overview of the Spiking Neural Network Training Script\n",
    "## Purpose:\n",
    "This script is designed to develop a computer model that mimics how biological brains process visual information. Specifically, it focuses on recognizing handwritten digits (0–9) from the MNIST dataset—a standard collection of digit images used for testing image classifiers. The model uses principles inspired by real brain activity, such as neurons firing in response to visual signals, and it “learns” from feedback (rewards) to improve its accuracy over time.\n",
    "\n",
    "## Key Components:\n",
    "\n",
    "### Image Preprocessing (The Retina Module):\n",
    "\n",
    "What It Does:\n",
    "The script first takes a handwritten digit image and processes it in a way similar to the human retina. This means it reduces the image size and converts the visual information into “spike trains” (a series of electrical impulses), which represent how neurons in the eye might signal the brain.\n",
    "\n",
    "Why It Matters:\n",
    "This step ensures that the image is in a format that the simulated brain (our neural network) can understand and process.\n",
    "\n",
    "Simulated Brain (Spiking Neural Network):\n",
    "\n",
    "What It Does:\n",
    "The network is built using thousands of simple units called neurons that simulate the behavior of brain cells. These neurons are organized into layers:\n",
    "\n",
    "### Middle (Liquid) Layer: Processes the incoming signals from the retina and performs the heavy-lifting for pattern recognition.\n",
    "\n",
    "### Output Layer: Makes the final decision on what digit is being shown by observing which neurons fire the most.\n",
    "\n",
    "Why It Matters:\n",
    "Unlike traditional artificial neural networks that use complex mathematics, this model uses spike-based communication—closer to how real biological brains operate—allowing for a more energy-efficient and potentially more adaptable system.\n",
    "\n",
    "### Learning Mechanism (Actor–Critic Module & Power-STDP):\n",
    "\n",
    "What It Does:\n",
    "The script includes a built-in feedback loop. When the network makes a prediction (like saying \"this is a 7\") and the prediction is correct, it receives a reward. If the prediction is wrong, it gets penalized. This reward feedback is combined with a learning rule (called Power-STDP) that adjusts the connections between neurons to improve future predictions.\n",
    "\n",
    "Why It Matters:\n",
    "This learning process is analogous to how humans learn from feedback and mistakes, helping the model improve its accuracy with each example it processes.\n",
    "\n",
    "### Training and Testing Loop:\n",
    "\n",
    "What It Does:\n",
    "The script automatically runs multiple rounds (or “epochs”) where the network processes many digit images. In each round, it adjusts its internal connections based on its performance. After training, the model is tested on a set of images to evaluate its accuracy.\n",
    "\n",
    "Why It Matters:\n",
    "Continuous training and testing allow the model to refine its predictions over time, leading to a system that can accurately recognize handwritten digits.\n",
    "\n",
    "### GPU Acceleration for Speed:\n",
    "\n",
    "What It Does:\n",
    "The script is designed to use a Graphics Processing Unit (GPU), which dramatically speeds up the processing time compared to using a regular computer processor. Whether it's using Nvidia GPUs (via CUDA) or Apple’s M2 (via an equivalent backend), the script leverages high-performance hardware.\n",
    "\n",
    "Why It Matters:\n",
    "Faster processing means quicker training times, making it feasible to experiment with and improve the model iteratively.\n",
    "\n",
    "## In Summary:\n",
    "This script is a cutting-edge prototype that simulates brain-like processing for visual information. It takes images of handwritten digits, converts them to a brain-friendly format, processes them through a network of simulated neurons, and learns from feedback. The end goal is to build an efficient, biologically inspired classifier that can accurately recognize digits—an approach that could lead to low-power, highly adaptable computing systems."
   ],
   "id": "bc2b69c4451d0308"
  },
  {
   "metadata": {
    "ExecuteTime": {
     "end_time": "2025-04-16T18:24:54.864573Z",
     "start_time": "2025-04-16T18:24:52.249272Z"
    }
   },
   "cell_type": "code",
   "source": [
    "# Cell 1: Imports & Device Setup\n",
    "import numpy as np\n",
    "import torch\n",
    "import torchvision\n",
    "import torchvision.transforms as transforms\n",
    "import matplotlib.pyplot as plt\n",
    "from torch.utils.data import DataLoader\n",
    "\n",
    "# Choose CUDA if available, else CPU\n",
    "device = torch.device(\"cuda\" if torch.cuda.is_available() else \"cpu\")\n",
    "print(\"Using device:\", device)"
   ],
   "id": "7cd116039af94a55",
   "outputs": [
    {
     "name": "stdout",
     "output_type": "stream",
     "text": [
      "Using device: cpu\n"
     ]
    }
   ],
   "execution_count": 1
  },
  {
   "metadata": {
    "ExecuteTime": {
     "end_time": "2025-04-16T18:24:54.887151Z",
     "start_time": "2025-04-16T18:24:54.882509Z"
    }
   },
   "cell_type": "code",
   "source": [
    "# Cell 2: Configuration Dictionary\n",
    "CONFIG = {\n",
    "    \"simulation\": {\"dt\":1.0,\"t_total\":1200,\"t_skip\":200},\n",
    "    \"neuron\": {\"v_rest\":0.0,\"v_thresh\":18.0,\"v_reset\":0.0},\n",
    "    \"middle_layer\": {\n",
    "        \"num_neurons\":5000, \"ratio_exc\":0.8,\n",
    "        \"tau_m_exc\":20.0,\"tau_m_inh\":10.0,\n",
    "        \"refractory_exc\":2.0,\"refractory_inh\":1.0\n",
    "    },\n",
    "    \"output_layer\": {\"num_neurons\":10,\"tau_m\":20.0,\"refractory\":2.0},\n",
    "    \"network\": {\"connection_prob\":0.2},\n",
    "    \"actor_critic\": {\"num_critic_neurons\":20,\"gamma\":0.99,\"tau_r\":20.0},\n",
    "    \"learning\": {\"learning_rate\":0.001},\n",
    "    \"retina\": {\n",
    "        \"input_size\":(28,28),\"pool_size\":2,\"stride\":2,\n",
    "        \"spike_rate_scaling\":50.0\n",
    "    },\n",
    "    \"training\": {\"num_epochs\":2,\"batch_size\":1}\n",
    "}"
   ],
   "id": "940dc37ebf8412c3",
   "outputs": [],
   "execution_count": 2
  },
  {
   "metadata": {
    "ExecuteTime": {
     "end_time": "2025-04-16T18:24:56.832253Z",
     "start_time": "2025-04-16T18:24:56.819219Z"
    }
   },
   "cell_type": "code",
   "source": [
    "# Cell 3: Retina Module\n",
    "class Retina:\n",
    "    def __init__(self, config):\n",
    "        self.cfg = config[\"retina\"]\n",
    "        self.in_sz = self.cfg[\"input_size\"]\n",
    "        self.pool, self.stride = self.cfg[\"pool_size\"], self.cfg[\"stride\"]\n",
    "        self.out_sz = (self.in_sz[0]//self.stride, self.in_sz[1]//self.stride)\n",
    "\n",
    "    def process_image(self, img):\n",
    "        pooled = np.zeros(self.out_sz, dtype=np.float32)\n",
    "        for i in range(self.out_sz[0]):\n",
    "            for j in range(self.out_sz[1]):\n",
    "                window = img[i*self.stride:i*self.stride+self.pool,\n",
    "                             j*self.stride:j*self.stride+self.pool]\n",
    "                pooled[i,j] = window.mean()\n",
    "        return pooled/255.0\n",
    "\n",
    "    def generate_spike_train(self, rates, sim_t, dt):\n",
    "        units = rates.size\n",
    "        steps = int(sim_t/dt)\n",
    "        train = np.zeros((units,steps),dtype=np.float32)\n",
    "        scale = self.cfg[\"spike_rate_scaling\"]\n",
    "        for u in range(units):\n",
    "            p = rates.flatten()[u]*scale*dt/1000.0\n",
    "            train[u] = (np.random.rand(steps) < p).astype(np.float32)\n",
    "        return torch.tensor(train,device=device)"
   ],
   "id": "4c38325f2d78bb3f",
   "outputs": [],
   "execution_count": 3
  },
  {
   "metadata": {
    "ExecuteTime": {
     "end_time": "2025-04-16T18:25:03.701138Z",
     "start_time": "2025-04-16T18:25:03.689944Z"
    }
   },
   "cell_type": "code",
   "source": [
    "# Cell 4: LIF Neuron Layer & Actor-Critic\n",
    "class LayerGPU:\n",
    "    def __init__(self, N, tau_m, v_rest, v_thresh, v_reset, refractory):\n",
    "        self.N = N\n",
    "        self.tau_m = tau_m.to(device)\n",
    "        self.v = torch.full((N,),v_rest,device=device)\n",
    "        self.v_thresh, self.v_reset = v_thresh, v_reset\n",
    "        self.refractory = refractory.to(device)\n",
    "        self.last_spike = torch.full((N,),-1e6,device=device)\n",
    "        self.counts = torch.zeros((N,),device=device)\n",
    "\n",
    "    def update(self, t, dt, I):\n",
    "        ok = (t-self.last_spike)>=self.refractory\n",
    "        dv = torch.zeros_like(self.v)\n",
    "        dv[ok] = ((-self.v[ok]+I[ok])*dt/self.tau_m[ok])\n",
    "        self.v += dv\n",
    "        sp = self.v>=self.v_thresh\n",
    "        if sp.any():\n",
    "            self.last_spike[sp]=t\n",
    "            self.v[sp]=self.v_reset\n",
    "            self.counts[sp]+=1\n",
    "        return sp.float()\n",
    "\n",
    "    def reset(self):\n",
    "        self.v.fill_(CONFIG[\"neuron\"][\"v_rest\"])\n",
    "        self.last_spike.fill_(-1e6)\n",
    "        self.counts.zero_()\n",
    "\n",
    "class ActorCriticGPU:\n",
    "    def __init__(self, cfg):\n",
    "        num = cfg[\"actor_critic\"][\"num_critic_neurons\"]\n",
    "        tau = torch.full((num,),20.0,device=device)\n",
    "        ref = torch.full((num,),2.0,device=device)\n",
    "        self.layer = LayerGPU(num,tau,\n",
    "                              cfg[\"neuron\"][\"v_rest\"],\n",
    "                              cfg[\"neuron\"][\"v_thresh\"],\n",
    "                              cfg[\"neuron\"][\"v_reset\"],\n",
    "                              ref)\n",
    "        self.last_val=0.0\n",
    "\n",
    "    def compute_value(self):\n",
    "        return self.layer.counts.mean().item()\n",
    "\n",
    "    def update(self,reward,gamma):\n",
    "        cur=self.compute_value()\n",
    "        delta=reward+gamma*cur-self.last_val\n",
    "        self.last_val=cur\n",
    "        return delta\n",
    "\n",
    "    def simulate(self,t,dt):\n",
    "        self.layer.update(t,dt,torch.zeros(self.layer.N,device=device))\n",
    "\n",
    "    def reset(self):\n",
    "        self.layer.reset()\n",
    "        self.last_val=0.0"
   ],
   "id": "eef61f1eaa350678",
   "outputs": [],
   "execution_count": 4
  },
  {
   "metadata": {
    "ExecuteTime": {
     "end_time": "2025-04-16T18:25:08.776175Z",
     "start_time": "2025-04-16T18:25:08.760634Z"
    }
   },
   "cell_type": "code",
   "source": [
    "# Cell 5: PSAC Network Definition\n",
    "class PSACNetworkGPU:\n",
    "    def __init__(self,cfg):\n",
    "        self.cfg, self.dt = cfg, cfg[\"simulation\"][\"dt\"]\n",
    "        self.retina = Retina(cfg)\n",
    "        # Middle\n",
    "        M=cfg[\"middle_layer\"][\"num_neurons\"]\n",
    "        exc=int(M*cfg[\"middle_layer\"][\"ratio_exc\"])\n",
    "        tau = torch.empty(M,device=device)\n",
    "        ref = torch.empty(M,device=device)\n",
    "        tau[:exc]=cfg[\"middle_layer\"][\"tau_m_exc\"]; ref[:exc]=cfg[\"middle_layer\"][\"refractory_exc\"]\n",
    "        tau[exc:]=cfg[\"middle_layer\"][\"tau_m_inh\"]; ref[exc:]=cfg[\"middle_layer\"][\"refractory_inh\"]\n",
    "        self.middle=LayerGPU(M,tau,\n",
    "                             cfg[\"neuron\"][\"v_rest\"],\n",
    "                             cfg[\"neuron\"][\"v_thresh\"],\n",
    "                             cfg[\"neuron\"][\"v_reset\"],\n",
    "                             ref)\n",
    "        # Output\n",
    "        O=cfg[\"output_layer\"][\"num_neurons\"]\n",
    "        tau_o = torch.full((O,),cfg[\"output_layer\"][\"tau_m\"],device=device)\n",
    "        ref_o = torch.full((O,),cfg[\"output_layer\"][\"refractory\"],device=device)\n",
    "        self.output=LayerGPU(O,tau_o,\n",
    "                             cfg[\"neuron\"][\"v_rest\"],\n",
    "                             cfg[\"neuron\"][\"v_thresh\"],\n",
    "                             cfg[\"neuron\"][\"v_reset\"],\n",
    "                             ref_o)\n",
    "        # Actor-Critic\n",
    "        self.ac=ActorCriticGPU(cfg)\n",
    "        # Connectivity\n",
    "        p=cfg[\"network\"][\"connection_prob\"]\n",
    "        self.W=((torch.rand((M,O),device=device)<p).float()\n",
    "                *torch.normal(0.5,0.1,(M,O),device=device))\n",
    "\n",
    "    def run_sim(self,spikes,reward,verbose=False):\n",
    "        T=spikes.shape[1]; dt=self.dt\n",
    "        outc=torch.zeros(self.output.N,device=device)\n",
    "        for step in range(T):\n",
    "            t=step*dt\n",
    "            rin=spikes[:,step].sum().item()\n",
    "            I_mid=torch.full((self.middle.N,),rin*500.0,device=device)\n",
    "            sp_mid=self.middle.update(t,dt,I_mid)\n",
    "            I_out=(sp_mid.unsqueeze(0)@self.W).squeeze(0)*10.0\n",
    "            sp_out=self.output.update(t,dt,I_out)\n",
    "            if t>=self.cfg[\"simulation\"][\"t_skip\"]:\n",
    "                outc+=sp_out\n",
    "            self.ac.simulate(t,dt)\n",
    "            if sp_mid.sum()>0 and sp_out.sum()>0:\n",
    "                d=self.ac.update(reward,self.cfg[\"actor_critic\"][\"gamma\"])\n",
    "                upd=torch.ger(sp_mid,sp_out)*self.cfg[\"learning\"][\"learning_rate\"]*d\n",
    "                self.W.add_(upd).clamp_(0,1.0)\n",
    "            if verbose and step%200==0:\n",
    "                print(f\"t={int(t)}ms mid={int(sp_mid.sum())} out={int(sp_out.sum())}\")\n",
    "        pred=int(outc.argmax().item())\n",
    "        return pred,outc.cpu().numpy()\n",
    "\n",
    "    def reset(self):\n",
    "        self.middle.reset(); self.output.reset(); self.ac.reset()"
   ],
   "id": "25811dd5dd2587fa",
   "outputs": [],
   "execution_count": 5
  },
  {
   "metadata": {
    "ExecuteTime": {
     "end_time": "2025-04-16T18:25:14.322513Z",
     "start_time": "2025-04-16T18:25:14.312976Z"
    }
   },
   "cell_type": "code",
   "source": [
    "# Cell 6: Reward & Training Functions\n",
    "def compute_reward(pred,label):\n",
    "    return 1.0 if pred==label else -1.0\n",
    "\n",
    "def train_network():\n",
    "    transform=transforms.Compose([\n",
    "        transforms.ToTensor(),\n",
    "        transforms.Lambda(lambda x:x.squeeze(0)*255)\n",
    "    ])\n",
    "    ds=torchvision.datasets.MNIST(root=\"data\",train=True,download=True,transform=transform)\n",
    "    loader=DataLoader(ds,batch_size=CONFIG[\"training\"][\"batch_size\"],shuffle=True)\n",
    "    retina,net=Retina(CONFIG),PSACNetworkGPU(CONFIG)\n",
    "    total,correct=0,0\n",
    "    for ep in range(CONFIG[\"training\"][\"num_epochs\"]):\n",
    "        print(f\"--- Epoch {ep+1}/{CONFIG['training']['num_epochs']} ---\")\n",
    "        for i,(img,lbl) in enumerate(loader):\n",
    "            arr=img.squeeze(0).numpy().astype(np.uint8)\n",
    "            rates=retina.process_image(arr)\n",
    "            spikes=retina.generate_spike_train(rates,CONFIG[\"simulation\"][\"t_total\"],CONFIG[\"simulation\"][\"dt\"])\n",
    "            net.reset()\n",
    "            p,_ = net.run_sim(spikes,0.0,verbose=(i<2))\n",
    "            r=compute_reward(p,lbl.item())\n",
    "            net.reset()\n",
    "            p,_ = net.run_sim(spikes,r)\n",
    "            total+=1; correct+=(p==lbl.item())\n",
    "            if (i+1)%100==0:\n",
    "                print(f\"Sample {i+1} True={lbl.item()} Pred={p} Acc={correct/total:.2f}\")\n",
    "        print(f\"Epoch {ep+1} Acc={correct/total:.2f}\")\n",
    "    print(f\"Training complete. Final Acc={correct/total:.2f}\")\n",
    "    return net"
   ],
   "id": "afb93292d4597d1b",
   "outputs": [],
   "execution_count": 6
  },
  {
   "metadata": {
    "ExecuteTime": {
     "end_time": "2025-04-16T18:25:18.914491Z",
     "start_time": "2025-04-16T18:25:18.905895Z"
    }
   },
   "cell_type": "code",
   "source": [
    "# Cell 7: Evaluation Function\n",
    "def evaluate_network(net):\n",
    "    transform=transforms.Compose([\n",
    "        transforms.ToTensor(),\n",
    "        transforms.Lambda(lambda x:x.squeeze(0)*255)\n",
    "    ])\n",
    "    ds=torchvision.datasets.MNIST(root=\"data\",train=False,download=True,transform=transform)\n",
    "    loader=DataLoader(ds,batch_size=1,shuffle=False)\n",
    "    retina=Retina(CONFIG)\n",
    "    total,correct=0,0\n",
    "    print(f\"▶️ Evaluating over {len(ds)} samples\")\n",
    "    for idx,(img,lbl) in enumerate(loader):\n",
    "        arr=img.squeeze(0).numpy().astype(np.uint8)\n",
    "        rates=retina.process_image(arr)\n",
    "        spikes=retina.generate_spike_train(rates,CONFIG[\"simulation\"][\"t_total\"],CONFIG[\"simulation\"][\"dt\"])\n",
    "        net.reset()\n",
    "        p,_=net.run_sim(spikes,0.0)\n",
    "        total+=1; correct+=(p==lbl.item())\n",
    "        if total%100==0:\n",
    "            print(f\"[{total}/{len(ds)}] True={lbl.item()} Pred={p} Acc={correct/total:.2f}\")\n",
    "    print(f\"✅ Final Eval Acc={correct/total:.2f}\")"
   ],
   "id": "b06d24be223d03e8",
   "outputs": [],
   "execution_count": 7
  },
  {
   "metadata": {
    "ExecuteTime": {
     "end_time": "2025-04-16T18:25:51.402716Z",
     "start_time": "2025-04-16T18:25:43.090928Z"
    }
   },
   "cell_type": "code",
   "source": [
    "# Cell 8: Run Training & Evaluation\n",
    "trained_net = train_network()\n",
    "evaluate_network(trained_net)"
   ],
   "id": "3708dc5dccbbfc9",
   "outputs": [
    {
     "name": "stdout",
     "output_type": "stream",
     "text": [
      "--- Epoch 1/2 ---\n",
      "t=0ms mid=5000 out=10\n",
      "t=200ms mid=1000 out=0\n",
      "t=400ms mid=5000 out=10\n",
      "t=600ms mid=0 out=0\n",
      "t=800ms mid=0 out=0\n",
      "t=1000ms mid=0 out=0\n",
      "t=0ms mid=0 out=0\n",
      "t=200ms mid=5000 out=10\n",
      "t=400ms mid=5000 out=10\n",
      "t=600ms mid=1000 out=0\n",
      "t=800ms mid=0 out=0\n",
      "t=1000ms mid=0 out=0\n"
     ]
    },
    {
     "ename": "KeyboardInterrupt",
     "evalue": "",
     "output_type": "error",
     "traceback": [
      "\u001B[0;31m---------------------------------------------------------------------------\u001B[0m",
      "\u001B[0;31mKeyboardInterrupt\u001B[0m                         Traceback (most recent call last)",
      "Cell \u001B[0;32mIn[8], line 2\u001B[0m\n\u001B[1;32m      1\u001B[0m \u001B[38;5;66;03m# Cell 8: Run Training & Evaluation\u001B[39;00m\n\u001B[0;32m----> 2\u001B[0m trained_net \u001B[38;5;241m=\u001B[39m train_network()\n\u001B[1;32m      3\u001B[0m evaluate_network(trained_net)\n",
      "Cell \u001B[0;32mIn[6], line 24\u001B[0m, in \u001B[0;36mtrain_network\u001B[0;34m()\u001B[0m\n\u001B[1;32m     22\u001B[0m r\u001B[38;5;241m=\u001B[39mcompute_reward(p,lbl\u001B[38;5;241m.\u001B[39mitem())\n\u001B[1;32m     23\u001B[0m net\u001B[38;5;241m.\u001B[39mreset()\n\u001B[0;32m---> 24\u001B[0m p,_ \u001B[38;5;241m=\u001B[39m net\u001B[38;5;241m.\u001B[39mrun_sim(spikes,r)\n\u001B[1;32m     25\u001B[0m total\u001B[38;5;241m+\u001B[39m\u001B[38;5;241m=\u001B[39m\u001B[38;5;241m1\u001B[39m; correct\u001B[38;5;241m+\u001B[39m\u001B[38;5;241m=\u001B[39m(p\u001B[38;5;241m==\u001B[39mlbl\u001B[38;5;241m.\u001B[39mitem())\n\u001B[1;32m     26\u001B[0m \u001B[38;5;28;01mif\u001B[39;00m (i\u001B[38;5;241m+\u001B[39m\u001B[38;5;241m1\u001B[39m)\u001B[38;5;241m%\u001B[39m\u001B[38;5;241m100\u001B[39m\u001B[38;5;241m==\u001B[39m\u001B[38;5;241m0\u001B[39m:\n",
      "Cell \u001B[0;32mIn[5], line 46\u001B[0m, in \u001B[0;36mPSACNetworkGPU.run_sim\u001B[0;34m(self, spikes, reward, verbose)\u001B[0m\n\u001B[1;32m     44\u001B[0m \u001B[38;5;28;01mif\u001B[39;00m t\u001B[38;5;241m>\u001B[39m\u001B[38;5;241m=\u001B[39m\u001B[38;5;28mself\u001B[39m\u001B[38;5;241m.\u001B[39mcfg[\u001B[38;5;124m\"\u001B[39m\u001B[38;5;124msimulation\u001B[39m\u001B[38;5;124m\"\u001B[39m][\u001B[38;5;124m\"\u001B[39m\u001B[38;5;124mt_skip\u001B[39m\u001B[38;5;124m\"\u001B[39m]:\n\u001B[1;32m     45\u001B[0m     outc\u001B[38;5;241m+\u001B[39m\u001B[38;5;241m=\u001B[39msp_out\n\u001B[0;32m---> 46\u001B[0m \u001B[38;5;28mself\u001B[39m\u001B[38;5;241m.\u001B[39mac\u001B[38;5;241m.\u001B[39msimulate(t,dt)\n\u001B[1;32m     47\u001B[0m \u001B[38;5;28;01mif\u001B[39;00m sp_mid\u001B[38;5;241m.\u001B[39msum()\u001B[38;5;241m>\u001B[39m\u001B[38;5;241m0\u001B[39m \u001B[38;5;129;01mand\u001B[39;00m sp_out\u001B[38;5;241m.\u001B[39msum()\u001B[38;5;241m>\u001B[39m\u001B[38;5;241m0\u001B[39m:\n\u001B[1;32m     48\u001B[0m     d\u001B[38;5;241m=\u001B[39m\u001B[38;5;28mself\u001B[39m\u001B[38;5;241m.\u001B[39mac\u001B[38;5;241m.\u001B[39mupdate(reward,\u001B[38;5;28mself\u001B[39m\u001B[38;5;241m.\u001B[39mcfg[\u001B[38;5;124m\"\u001B[39m\u001B[38;5;124mactor_critic\u001B[39m\u001B[38;5;124m\"\u001B[39m][\u001B[38;5;124m\"\u001B[39m\u001B[38;5;124mgamma\u001B[39m\u001B[38;5;124m\"\u001B[39m])\n",
      "Cell \u001B[0;32mIn[4], line 51\u001B[0m, in \u001B[0;36mActorCriticGPU.simulate\u001B[0;34m(self, t, dt)\u001B[0m\n\u001B[1;32m     50\u001B[0m \u001B[38;5;28;01mdef\u001B[39;00m \u001B[38;5;21msimulate\u001B[39m(\u001B[38;5;28mself\u001B[39m,t,dt):\n\u001B[0;32m---> 51\u001B[0m     \u001B[38;5;28mself\u001B[39m\u001B[38;5;241m.\u001B[39mlayer\u001B[38;5;241m.\u001B[39mupdate(t,dt,torch\u001B[38;5;241m.\u001B[39mzeros(\u001B[38;5;28mself\u001B[39m\u001B[38;5;241m.\u001B[39mlayer\u001B[38;5;241m.\u001B[39mN,device\u001B[38;5;241m=\u001B[39mdevice))\n",
      "Cell \u001B[0;32mIn[4], line 18\u001B[0m, in \u001B[0;36mLayerGPU.update\u001B[0;34m(self, t, dt, I)\u001B[0m\n\u001B[1;32m     16\u001B[0m \u001B[38;5;28mself\u001B[39m\u001B[38;5;241m.\u001B[39mv \u001B[38;5;241m+\u001B[39m\u001B[38;5;241m=\u001B[39m dv\n\u001B[1;32m     17\u001B[0m sp \u001B[38;5;241m=\u001B[39m \u001B[38;5;28mself\u001B[39m\u001B[38;5;241m.\u001B[39mv\u001B[38;5;241m>\u001B[39m\u001B[38;5;241m=\u001B[39m\u001B[38;5;28mself\u001B[39m\u001B[38;5;241m.\u001B[39mv_thresh\n\u001B[0;32m---> 18\u001B[0m \u001B[38;5;28;01mif\u001B[39;00m sp\u001B[38;5;241m.\u001B[39many():\n\u001B[1;32m     19\u001B[0m     \u001B[38;5;28mself\u001B[39m\u001B[38;5;241m.\u001B[39mlast_spike[sp]\u001B[38;5;241m=\u001B[39mt\n\u001B[1;32m     20\u001B[0m     \u001B[38;5;28mself\u001B[39m\u001B[38;5;241m.\u001B[39mv[sp]\u001B[38;5;241m=\u001B[39m\u001B[38;5;28mself\u001B[39m\u001B[38;5;241m.\u001B[39mv_reset\n",
      "\u001B[0;31mKeyboardInterrupt\u001B[0m: "
     ]
    }
   ],
   "execution_count": 8
  },
  {
   "metadata": {},
   "cell_type": "code",
   "outputs": [],
   "execution_count": null,
   "source": "",
   "id": "85ca07da8cf148ef"
  }
 ],
 "metadata": {
  "kernelspec": {
   "display_name": "Python 3",
   "language": "python",
   "name": "python3"
  },
  "language_info": {
   "codemirror_mode": {
    "name": "ipython",
    "version": 2
   },
   "file_extension": ".py",
   "mimetype": "text/x-python",
   "name": "python",
   "nbconvert_exporter": "python",
   "pygments_lexer": "ipython2",
   "version": "2.7.6"
  }
 },
 "nbformat": 4,
 "nbformat_minor": 5
}
